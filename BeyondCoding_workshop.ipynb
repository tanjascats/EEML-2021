{
  "cells": [
    {
      "cell_type": "markdown",
      "metadata": {
        "id": "view-in-github",
        "colab_type": "text"
      },
      "source": [
        "<a href=\"https://colab.research.google.com/github/tanjascats/EEML-2021/blob/main/BeyondCoding_workshop.ipynb\" target=\"_parent\"><img src=\"https://colab.research.google.com/assets/colab-badge.svg\" alt=\"Open In Colab\"/></a>"
      ]
    },
    {
      "cell_type": "markdown",
      "metadata": {
        "id": "PmnbkMxOr19Q"
      },
      "source": [
        "# Beyond Coding Workshop: \n",
        "## L7: Privacy from a developer's perspective\n",
        "\n",
        "### Contents:\n",
        "1. Anonymisation using crowds\n",
        "2. Synthetic data generation"
      ]
    },
    {
      "cell_type": "code",
      "execution_count": null,
      "metadata": {
        "id": "ZMsdDCj9wgDs"
      },
      "outputs": [],
      "source": [
        "# !pip install crowds"
      ]
    },
    {
      "cell_type": "code",
      "source": [
        "import warnings\n",
        "warnings.filterwarnings('ignore')"
      ],
      "metadata": {
        "id": "6y-hlbP5XE22"
      },
      "execution_count": 2,
      "outputs": []
    },
    {
      "cell_type": "code",
      "execution_count": 3,
      "metadata": {
        "id": "JmPmLDOesTyM"
      },
      "outputs": [],
      "source": [
        "import pandas as pd\n",
        "import numpy as np\n",
        "import json\n",
        "from matplotlib import pyplot as plt\n",
        "import seaborn as sns\n",
        "\n",
        "from crowds.kanonymity.ola import anonymize\n",
        "from crowds.kanonymity.information_loss import entropy_loss\n",
        "from crowds.kanonymity.generalizations import GenRule\n",
        "\n",
        "from sklearn.linear_model import LogisticRegression"
      ]
    },
    {
      "cell_type": "code",
      "execution_count": 4,
      "metadata": {
        "colab": {
          "base_uri": "https://localhost:8080/"
        },
        "id": "b26mCZd0spBU",
        "outputId": "214d5166-7fc9-430a-e35b-1cf710ad5e72"
      },
      "outputs": [
        {
          "output_type": "stream",
          "name": "stdout",
          "text": [
            "<class 'pandas.core.frame.DataFrame'>\n",
            "RangeIndex: 30162 entries, 0 to 30161\n",
            "Data columns (total 9 columns):\n",
            " #   Column          Non-Null Count  Dtype \n",
            "---  ------          --------------  ----- \n",
            " 0   sex             30162 non-null  object\n",
            " 1   age             30162 non-null  int64 \n",
            " 2   race            30162 non-null  object\n",
            " 3   marital-status  30162 non-null  object\n",
            " 4   education       30162 non-null  object\n",
            " 5   native-country  30162 non-null  object\n",
            " 6   workclass       30162 non-null  object\n",
            " 7   occupation      30162 non-null  object\n",
            " 8   salary-class    30162 non-null  object\n",
            "dtypes: int64(1), object(8)\n",
            "memory usage: 2.1+ MB\n"
          ]
        }
      ],
      "source": [
        "# import data\n",
        "adult = pd.read_csv('adult.csv', sep=' *; *', na_values='?', engine='python')\n",
        "adult.info()"
      ]
    },
    {
      "cell_type": "code",
      "execution_count": 5,
      "metadata": {
        "id": "7ZCJQfNXSD5w"
      },
      "outputs": [],
      "source": [
        "# one of these two hierarchies I can write with them; and another one they try to write on their own\n",
        "def generalise_marital_status(value):\n",
        "  if value in ['Married-AF-spouse','Married-civ-spouse']:\n",
        "    return 'spouse-present'\n",
        "  elif value in ['Divorced', 'Never-married', 'Separated', 'Widowed', 'Married-spouse-absent']:\n",
        "    return 'spouse-not-present'"
      ]
    },
    {
      "cell_type": "code",
      "execution_count": 6,
      "metadata": {
        "id": "lgbKJEHeS0n3"
      },
      "outputs": [],
      "source": [
        "def generalise_workclass(value):\n",
        "  if value in ['Private', 'Self-emp-not-inc', 'Self-emp-inc']:\n",
        "    return 'Non-Government'\n",
        "  elif value in ['Local-gov', 'Federal-gov', 'State-gov']:\n",
        "    return 'Government'\n",
        "  elif value in ['Without-pay', 'Never-worked']:\n",
        "    return 'Unemployed'"
      ]
    },
    {
      "cell_type": "code",
      "execution_count": 7,
      "metadata": {
        "id": "a845EPx4UpIj"
      },
      "outputs": [],
      "source": [
        "# the below generalisations will be uploaded from the json-s\n",
        "def generalise_education_level1(value):\n",
        "  # load dict of the first level\n",
        "  # dict level_1\n",
        "  with open('education_level1.json', 'rb') as infile:\n",
        "    level_1 = json.load(infile)\n",
        "  if value in level_1:\n",
        "    return level_1[value]"
      ]
    },
    {
      "cell_type": "code",
      "execution_count": 8,
      "metadata": {
        "id": "W7_pdlFo4inR"
      },
      "outputs": [],
      "source": [
        "def generalise_education_level2(value):\n",
        "  with open('education_level2.json', 'rb') as infile:\n",
        "    level_2 = json.load(infile)\n",
        "  if value in level_2:\n",
        "    return level_2[value]\n",
        "  else:\n",
        "    print(value)"
      ]
    },
    {
      "cell_type": "code",
      "execution_count": 9,
      "metadata": {
        "id": "hK-bkMa35Hgz"
      },
      "outputs": [],
      "source": [
        "def generalise_age_level1(value):\n",
        "  # this is slow because it needs to open the file every time when transforming a value\n",
        "  with open('age_level1.json', 'rb') as infile:\n",
        "    level1 = json.load(infile)\n",
        "  if str(value) in level1:\n",
        "    return level1[str(value)]"
      ]
    },
    {
      "cell_type": "code",
      "execution_count": 10,
      "metadata": {
        "id": "d-3gns_a5W7-"
      },
      "outputs": [],
      "source": [
        "def generalise_age_level2(value):\n",
        "  with open('age_level2.json', 'rb') as infile:\n",
        "    level2 = json.load(infile)\n",
        "  if str(value) in level2:\n",
        "    return level2[str(value)]"
      ]
    },
    {
      "cell_type": "code",
      "execution_count": 11,
      "metadata": {
        "id": "a1YkEmQ85iP_"
      },
      "outputs": [],
      "source": [
        "def generalise_age_level3(value):\n",
        "  with open('age_level3.json', 'rb') as infile:\n",
        "    level3 = json.load(infile)\n",
        "  if str(value) in level3:\n",
        "    return level3[str(value)]"
      ]
    },
    {
      "cell_type": "code",
      "execution_count": 12,
      "metadata": {
        "id": "3EQxK98r51yh"
      },
      "outputs": [],
      "source": [
        "def generalise_native_country(value):\n",
        "  with open('native-country_level1.json', 'rb') as infile:\n",
        "    level1 = json.load(infile)\n",
        "  if value in level1:\n",
        "    return level1[value]"
      ]
    },
    {
      "cell_type": "code",
      "source": [
        "generalization_rules = {\n",
        "    'sex': GenRule([]), # 1 level\n",
        "    'age': GenRule([generalise_age_level1, generalise_age_level2, generalise_age_level3]), # 4-levels generalization\n",
        "    'race': GenRule([]), # 1 level\n",
        "    'marital-status': GenRule([generalise_marital_status]), # 2 levels\n",
        "    'education': GenRule([generalise_education_level1, generalise_education_level2]), # 3 levels\n",
        "    'native-country': GenRule([generalise_native_country]), # 2 levels\n",
        "    'workclass': GenRule([generalise_workclass]) # 2 levels\n",
        "}\n",
        "\n",
        "adult_anonymised, transformation = anonymize(adult, generalization_rules=generalization_rules, k=7, max_sup=0.0, info_loss=entropy_loss)"
      ],
      "metadata": {
        "id": "gm-IeoadwSm3"
      },
      "execution_count": 13,
      "outputs": []
    },
    {
      "cell_type": "code",
      "source": [
        "adult_anonymised"
      ],
      "metadata": {
        "colab": {
          "base_uri": "https://localhost:8080/",
          "height": 468
        },
        "id": "f-73LbGLXc72",
        "outputId": "8565f4d0-c4d8-4ebb-9e38-1e9ab9bbeeb9"
      },
      "execution_count": 14,
      "outputs": [
        {
          "output_type": "execute_result",
          "data": {
            "text/plain": [
              "        sex    age  race      marital-status education native-country  \\\n",
              "0      None  35-39  None  spouse-not-present      None           None   \n",
              "1      None  35-39  None  spouse-not-present      None           None   \n",
              "2      None  35-39  None  spouse-not-present      None           None   \n",
              "3      None  35-39  None  spouse-not-present      None           None   \n",
              "4      None  35-39  None  spouse-not-present      None           None   \n",
              "...     ...    ...   ...                 ...       ...            ...   \n",
              "30157  None  80-84  None  spouse-not-present      None           None   \n",
              "30158  None  80-84  None  spouse-not-present      None           None   \n",
              "30159  None  80-84  None  spouse-not-present      None           None   \n",
              "30160  None  80-84  None  spouse-not-present      None           None   \n",
              "30161  None  80-84  None  spouse-not-present      None           None   \n",
              "\n",
              "      workclass         occupation salary-class  \n",
              "0          None       Adm-clerical        <=50K  \n",
              "1          None  Handlers-cleaners        <=50K  \n",
              "2          None    Exec-managerial        <=50K  \n",
              "3          None       Craft-repair        <=50K  \n",
              "4          None  Machine-op-inspct        <=50K  \n",
              "...         ...                ...          ...  \n",
              "30157      None              Sales        <=50K  \n",
              "30158      None              Sales        <=50K  \n",
              "30159      None              Sales         >50K  \n",
              "30160      None     Prof-specialty        <=50K  \n",
              "30161      None              Sales        <=50K  \n",
              "\n",
              "[30162 rows x 9 columns]"
            ],
            "text/html": [
              "\n",
              "  <div id=\"df-0cfd9245-cb7f-4da7-aa4b-c45df47f5748\">\n",
              "    <div class=\"colab-df-container\">\n",
              "      <div>\n",
              "<style scoped>\n",
              "    .dataframe tbody tr th:only-of-type {\n",
              "        vertical-align: middle;\n",
              "    }\n",
              "\n",
              "    .dataframe tbody tr th {\n",
              "        vertical-align: top;\n",
              "    }\n",
              "\n",
              "    .dataframe thead th {\n",
              "        text-align: right;\n",
              "    }\n",
              "</style>\n",
              "<table border=\"1\" class=\"dataframe\">\n",
              "  <thead>\n",
              "    <tr style=\"text-align: right;\">\n",
              "      <th></th>\n",
              "      <th>sex</th>\n",
              "      <th>age</th>\n",
              "      <th>race</th>\n",
              "      <th>marital-status</th>\n",
              "      <th>education</th>\n",
              "      <th>native-country</th>\n",
              "      <th>workclass</th>\n",
              "      <th>occupation</th>\n",
              "      <th>salary-class</th>\n",
              "    </tr>\n",
              "  </thead>\n",
              "  <tbody>\n",
              "    <tr>\n",
              "      <th>0</th>\n",
              "      <td>None</td>\n",
              "      <td>35-39</td>\n",
              "      <td>None</td>\n",
              "      <td>spouse-not-present</td>\n",
              "      <td>None</td>\n",
              "      <td>None</td>\n",
              "      <td>None</td>\n",
              "      <td>Adm-clerical</td>\n",
              "      <td>&lt;=50K</td>\n",
              "    </tr>\n",
              "    <tr>\n",
              "      <th>1</th>\n",
              "      <td>None</td>\n",
              "      <td>35-39</td>\n",
              "      <td>None</td>\n",
              "      <td>spouse-not-present</td>\n",
              "      <td>None</td>\n",
              "      <td>None</td>\n",
              "      <td>None</td>\n",
              "      <td>Handlers-cleaners</td>\n",
              "      <td>&lt;=50K</td>\n",
              "    </tr>\n",
              "    <tr>\n",
              "      <th>2</th>\n",
              "      <td>None</td>\n",
              "      <td>35-39</td>\n",
              "      <td>None</td>\n",
              "      <td>spouse-not-present</td>\n",
              "      <td>None</td>\n",
              "      <td>None</td>\n",
              "      <td>None</td>\n",
              "      <td>Exec-managerial</td>\n",
              "      <td>&lt;=50K</td>\n",
              "    </tr>\n",
              "    <tr>\n",
              "      <th>3</th>\n",
              "      <td>None</td>\n",
              "      <td>35-39</td>\n",
              "      <td>None</td>\n",
              "      <td>spouse-not-present</td>\n",
              "      <td>None</td>\n",
              "      <td>None</td>\n",
              "      <td>None</td>\n",
              "      <td>Craft-repair</td>\n",
              "      <td>&lt;=50K</td>\n",
              "    </tr>\n",
              "    <tr>\n",
              "      <th>4</th>\n",
              "      <td>None</td>\n",
              "      <td>35-39</td>\n",
              "      <td>None</td>\n",
              "      <td>spouse-not-present</td>\n",
              "      <td>None</td>\n",
              "      <td>None</td>\n",
              "      <td>None</td>\n",
              "      <td>Machine-op-inspct</td>\n",
              "      <td>&lt;=50K</td>\n",
              "    </tr>\n",
              "    <tr>\n",
              "      <th>...</th>\n",
              "      <td>...</td>\n",
              "      <td>...</td>\n",
              "      <td>...</td>\n",
              "      <td>...</td>\n",
              "      <td>...</td>\n",
              "      <td>...</td>\n",
              "      <td>...</td>\n",
              "      <td>...</td>\n",
              "      <td>...</td>\n",
              "    </tr>\n",
              "    <tr>\n",
              "      <th>30157</th>\n",
              "      <td>None</td>\n",
              "      <td>80-84</td>\n",
              "      <td>None</td>\n",
              "      <td>spouse-not-present</td>\n",
              "      <td>None</td>\n",
              "      <td>None</td>\n",
              "      <td>None</td>\n",
              "      <td>Sales</td>\n",
              "      <td>&lt;=50K</td>\n",
              "    </tr>\n",
              "    <tr>\n",
              "      <th>30158</th>\n",
              "      <td>None</td>\n",
              "      <td>80-84</td>\n",
              "      <td>None</td>\n",
              "      <td>spouse-not-present</td>\n",
              "      <td>None</td>\n",
              "      <td>None</td>\n",
              "      <td>None</td>\n",
              "      <td>Sales</td>\n",
              "      <td>&lt;=50K</td>\n",
              "    </tr>\n",
              "    <tr>\n",
              "      <th>30159</th>\n",
              "      <td>None</td>\n",
              "      <td>80-84</td>\n",
              "      <td>None</td>\n",
              "      <td>spouse-not-present</td>\n",
              "      <td>None</td>\n",
              "      <td>None</td>\n",
              "      <td>None</td>\n",
              "      <td>Sales</td>\n",
              "      <td>&gt;50K</td>\n",
              "    </tr>\n",
              "    <tr>\n",
              "      <th>30160</th>\n",
              "      <td>None</td>\n",
              "      <td>80-84</td>\n",
              "      <td>None</td>\n",
              "      <td>spouse-not-present</td>\n",
              "      <td>None</td>\n",
              "      <td>None</td>\n",
              "      <td>None</td>\n",
              "      <td>Prof-specialty</td>\n",
              "      <td>&lt;=50K</td>\n",
              "    </tr>\n",
              "    <tr>\n",
              "      <th>30161</th>\n",
              "      <td>None</td>\n",
              "      <td>80-84</td>\n",
              "      <td>None</td>\n",
              "      <td>spouse-not-present</td>\n",
              "      <td>None</td>\n",
              "      <td>None</td>\n",
              "      <td>None</td>\n",
              "      <td>Sales</td>\n",
              "      <td>&lt;=50K</td>\n",
              "    </tr>\n",
              "  </tbody>\n",
              "</table>\n",
              "<p>30162 rows × 9 columns</p>\n",
              "</div>\n",
              "      <button class=\"colab-df-convert\" onclick=\"convertToInteractive('df-0cfd9245-cb7f-4da7-aa4b-c45df47f5748')\"\n",
              "              title=\"Convert this dataframe to an interactive table.\"\n",
              "              style=\"display:none;\">\n",
              "        \n",
              "  <svg xmlns=\"http://www.w3.org/2000/svg\" height=\"24px\"viewBox=\"0 0 24 24\"\n",
              "       width=\"24px\">\n",
              "    <path d=\"M0 0h24v24H0V0z\" fill=\"none\"/>\n",
              "    <path d=\"M18.56 5.44l.94 2.06.94-2.06 2.06-.94-2.06-.94-.94-2.06-.94 2.06-2.06.94zm-11 1L8.5 8.5l.94-2.06 2.06-.94-2.06-.94L8.5 2.5l-.94 2.06-2.06.94zm10 10l.94 2.06.94-2.06 2.06-.94-2.06-.94-.94-2.06-.94 2.06-2.06.94z\"/><path d=\"M17.41 7.96l-1.37-1.37c-.4-.4-.92-.59-1.43-.59-.52 0-1.04.2-1.43.59L10.3 9.45l-7.72 7.72c-.78.78-.78 2.05 0 2.83L4 21.41c.39.39.9.59 1.41.59.51 0 1.02-.2 1.41-.59l7.78-7.78 2.81-2.81c.8-.78.8-2.07 0-2.86zM5.41 20L4 18.59l7.72-7.72 1.47 1.35L5.41 20z\"/>\n",
              "  </svg>\n",
              "      </button>\n",
              "      \n",
              "  <style>\n",
              "    .colab-df-container {\n",
              "      display:flex;\n",
              "      flex-wrap:wrap;\n",
              "      gap: 12px;\n",
              "    }\n",
              "\n",
              "    .colab-df-convert {\n",
              "      background-color: #E8F0FE;\n",
              "      border: none;\n",
              "      border-radius: 50%;\n",
              "      cursor: pointer;\n",
              "      display: none;\n",
              "      fill: #1967D2;\n",
              "      height: 32px;\n",
              "      padding: 0 0 0 0;\n",
              "      width: 32px;\n",
              "    }\n",
              "\n",
              "    .colab-df-convert:hover {\n",
              "      background-color: #E2EBFA;\n",
              "      box-shadow: 0px 1px 2px rgba(60, 64, 67, 0.3), 0px 1px 3px 1px rgba(60, 64, 67, 0.15);\n",
              "      fill: #174EA6;\n",
              "    }\n",
              "\n",
              "    [theme=dark] .colab-df-convert {\n",
              "      background-color: #3B4455;\n",
              "      fill: #D2E3FC;\n",
              "    }\n",
              "\n",
              "    [theme=dark] .colab-df-convert:hover {\n",
              "      background-color: #434B5C;\n",
              "      box-shadow: 0px 1px 3px 1px rgba(0, 0, 0, 0.15);\n",
              "      filter: drop-shadow(0px 1px 2px rgba(0, 0, 0, 0.3));\n",
              "      fill: #FFFFFF;\n",
              "    }\n",
              "  </style>\n",
              "\n",
              "      <script>\n",
              "        const buttonEl =\n",
              "          document.querySelector('#df-0cfd9245-cb7f-4da7-aa4b-c45df47f5748 button.colab-df-convert');\n",
              "        buttonEl.style.display =\n",
              "          google.colab.kernel.accessAllowed ? 'block' : 'none';\n",
              "\n",
              "        async function convertToInteractive(key) {\n",
              "          const element = document.querySelector('#df-0cfd9245-cb7f-4da7-aa4b-c45df47f5748');\n",
              "          const dataTable =\n",
              "            await google.colab.kernel.invokeFunction('convertToInteractive',\n",
              "                                                     [key], {});\n",
              "          if (!dataTable) return;\n",
              "\n",
              "          const docLinkHtml = 'Like what you see? Visit the ' +\n",
              "            '<a target=\"_blank\" href=https://colab.research.google.com/notebooks/data_table.ipynb>data table notebook</a>'\n",
              "            + ' to learn more about interactive tables.';\n",
              "          element.innerHTML = '';\n",
              "          dataTable['output_type'] = 'display_data';\n",
              "          await google.colab.output.renderOutput(dataTable, element);\n",
              "          const docLink = document.createElement('div');\n",
              "          docLink.innerHTML = docLinkHtml;\n",
              "          element.appendChild(docLink);\n",
              "        }\n",
              "      </script>\n",
              "    </div>\n",
              "  </div>\n",
              "  "
            ]
          },
          "metadata": {},
          "execution_count": 14
        }
      ]
    },
    {
      "cell_type": "code",
      "source": [
        "transformation"
      ],
      "metadata": {
        "colab": {
          "base_uri": "https://localhost:8080/"
        },
        "id": "Z7J5u-ihfIrF",
        "outputId": "3cadf6f5-6739-41ba-bf54-bde4d5ad1451"
      },
      "execution_count": 15,
      "outputs": [
        {
          "output_type": "execute_result",
          "data": {
            "text/plain": [
              "{'age': 1,\n",
              " 'education': 3,\n",
              " 'marital-status': 1,\n",
              " 'native-country': 2,\n",
              " 'race': 1,\n",
              " 'sex': 1,\n",
              " 'workclass': 2}"
            ]
          },
          "metadata": {},
          "execution_count": 15
        }
      ]
    },
    {
      "cell_type": "markdown",
      "source": [
        "Anonymisation in ARX yields the same transformation. -> ARX demo"
      ],
      "metadata": {
        "id": "45MqSVLiIvXC"
      }
    },
    {
      "cell_type": "code",
      "source": [
        "# utility loss via Machine Learning process\n",
        "# baseline\n",
        "adult.age.hist()"
      ],
      "metadata": {
        "colab": {
          "base_uri": "https://localhost:8080/",
          "height": 282
        },
        "id": "3YVzgrFZIqh5",
        "outputId": "7ad7f7ee-57e3-4d12-91aa-414e9346036f"
      },
      "execution_count": 16,
      "outputs": [
        {
          "output_type": "execute_result",
          "data": {
            "text/plain": [
              "<matplotlib.axes._subplots.AxesSubplot at 0x7f78c0c8bbd0>"
            ]
          },
          "metadata": {},
          "execution_count": 16
        },
        {
          "output_type": "display_data",
          "data": {
            "text/plain": [
              "<Figure size 432x288 with 1 Axes>"
            ],
            "image/png": "[encoded data removed]"
          },
          "metadata": {
            "needs_background": "light"
          }
        }
      ]
    },
    {
      "cell_type": "code",
      "source": [
        "sns.countplot(y='workclass', hue='salary-class', data=adult)"
      ],
      "metadata": {
        "colab": {
          "base_uri": "https://localhost:8080/",
          "height": 296
        },
        "id": "NNIgzjo5NWMY",
        "outputId": "ef19d3b0-9522-4213-a675-b50c97952f79"
      },
      "execution_count": 17,
      "outputs": [
        {
          "output_type": "execute_result",
          "data": {
            "text/plain": [
              "<matplotlib.axes._subplots.AxesSubplot at 0x7f78c0be7150>"
            ]
          },
          "metadata": {},
          "execution_count": 17
        },
        {
          "output_type": "display_data",
          "data": {
            "text/plain": [
              "<Figure size 432x288 with 1 Axes>"
            ],
            "image/png": "[encoded data removed]"
          },
          "metadata": {
            "needs_background": "light"
          }
        }
      ]
    },
    {
      "cell_type": "code",
      "source": [
        "sns.countplot(y='education', hue='salary-class', data=adult)"
      ],
      "metadata": {
        "colab": {
          "base_uri": "https://localhost:8080/",
          "height": 296
        },
        "id": "GsJdI4jHN7EY",
        "outputId": "8e8f4554-20c7-4802-f8dd-426909fb80b7"
      },
      "execution_count": 18,
      "outputs": [
        {
          "output_type": "execute_result",
          "data": {
            "text/plain": [
              "<matplotlib.axes._subplots.AxesSubplot at 0x7f78c077f650>"
            ]
          },
          "metadata": {},
          "execution_count": 18
        },
        {
          "output_type": "display_data",
          "data": {
            "text/plain": [
              "<Figure size 432x288 with 1 Axes>"
            ],
            "image/png": "[encoded data removed]"
          },
          "metadata": {
            "needs_background": "light"
          }
        }
      ]
    },
    {
      "cell_type": "code",
      "source": [
        "from sklearn.pipeline import Pipeline, FeatureUnion\n",
        "from sklearn.preprocessing import StandardScaler, OneHotEncoder, LabelEncoder\n",
        "from sklearn.base import BaseEstimator, TransformerMixin\n",
        "\n",
        "class ColumnsSelector(BaseEstimator, TransformerMixin):\n",
        "  \n",
        "  def __init__(self, type):\n",
        "    self.type = type\n",
        "  \n",
        "  def fit(self, X, y=None):\n",
        "    return self\n",
        "  \n",
        "  def transform(self,X):\n",
        "    return X.select_dtypes(include=[self.type])\n",
        "\n",
        "num_pipeline = Pipeline(steps=[(\"num_selector\", ColumnsSelector(type='int')),\n",
        "                               ('scaler', StandardScaler())])\n",
        "cat_pipeline = Pipeline(steps=[(\"cat_selector\", ColumnsSelector(type='object')),\n",
        "                               ('onehot_encoder', OneHotEncoder())])\n",
        "\n",
        "preprocessing_pipeline = FeatureUnion([('numerical_pipeline', num_pipeline),\n",
        "                                       ('categorical_pipeline', cat_pipeline)])"
      ],
      "metadata": {
        "id": "M6y8TGUPOCug"
      },
      "execution_count": 19,
      "outputs": []
    },
    {
      "cell_type": "code",
      "source": [
        "X = adult.drop('salary-class', axis=1)\n",
        "y = adult['salary-class']"
      ],
      "metadata": {
        "id": "TKd02ujwTOi5"
      },
      "execution_count": 20,
      "outputs": []
    },
    {
      "cell_type": "code",
      "source": [
        "X_processed = preprocessing_pipeline.fit_transform(X)"
      ],
      "metadata": {
        "id": "3szSDCzvTsi4"
      },
      "execution_count": 21,
      "outputs": []
    },
    {
      "cell_type": "code",
      "source": [
        "from sklearn.model_selection import cross_val_score\n",
        "\n",
        "cross_val_model = LogisticRegression(random_state=0)\n",
        "scores = cross_val_score(cross_val_model, X_processed, y, cv=5)"
      ],
      "metadata": {
        "id": "5M1mNAqpTdQz"
      },
      "execution_count": 22,
      "outputs": []
    },
    {
      "cell_type": "code",
      "source": [
        "scores"
      ],
      "metadata": {
        "colab": {
          "base_uri": "https://localhost:8080/"
        },
        "id": "CPa2XyZcW7zI",
        "outputId": "464feec1-81fc-42a2-fcbc-99c8a8ec380c"
      },
      "execution_count": 23,
      "outputs": [
        {
          "output_type": "execute_result",
          "data": {
            "text/plain": [
              "array([0.82280789, 0.82413393, 0.82940981, 0.83355438, 0.82708886])"
            ]
          },
          "metadata": {},
          "execution_count": 23
        }
      ]
    },
    {
      "cell_type": "code",
      "source": [
        "# ANONYMISED DATA"
      ],
      "metadata": {
        "id": "nhi4PFTTXfXl"
      },
      "execution_count": 24,
      "outputs": []
    },
    {
      "cell_type": "code",
      "source": [
        "X_anon = adult_anonymised.drop('salary-class', axis=1)\n",
        "y_anon = adult_anonymised['salary-class']"
      ],
      "metadata": {
        "id": "bO1i6oT1Xiz4"
      },
      "execution_count": 25,
      "outputs": []
    },
    {
      "cell_type": "code",
      "source": [
        "X_anon.dropna(axis=1, inplace=True)"
      ],
      "metadata": {
        "id": "D9hThXulbk7I"
      },
      "execution_count": 26,
      "outputs": []
    },
    {
      "cell_type": "code",
      "source": [
        "X_anon"
      ],
      "metadata": {
        "colab": {
          "base_uri": "https://localhost:8080/",
          "height": 424
        },
        "id": "9LerujdXey-8",
        "outputId": "13020955-3e78-43a4-db6b-898f4e4c1820"
      },
      "execution_count": 27,
      "outputs": [
        {
          "output_type": "execute_result",
          "data": {
            "text/plain": [
              "         age      marital-status         occupation\n",
              "0      35-39  spouse-not-present       Adm-clerical\n",
              "1      35-39  spouse-not-present  Handlers-cleaners\n",
              "2      35-39  spouse-not-present    Exec-managerial\n",
              "3      35-39  spouse-not-present       Craft-repair\n",
              "4      35-39  spouse-not-present  Machine-op-inspct\n",
              "...      ...                 ...                ...\n",
              "30157  80-84  spouse-not-present              Sales\n",
              "30158  80-84  spouse-not-present              Sales\n",
              "30159  80-84  spouse-not-present              Sales\n",
              "30160  80-84  spouse-not-present     Prof-specialty\n",
              "30161  80-84  spouse-not-present              Sales\n",
              "\n",
              "[30162 rows x 3 columns]"
            ],
            "text/html": [
              "\n",
              "  <div id=\"df-dd6bccb3-ff3b-4d46-bbfd-f9cc123b7347\">\n",
              "    <div class=\"colab-df-container\">\n",
              "      <div>\n",
              "<style scoped>\n",
              "    .dataframe tbody tr th:only-of-type {\n",
              "        vertical-align: middle;\n",
              "    }\n",
              "\n",
              "    .dataframe tbody tr th {\n",
              "        vertical-align: top;\n",
              "    }\n",
              "\n",
              "    .dataframe thead th {\n",
              "        text-align: right;\n",
              "    }\n",
              "</style>\n",
              "<table border=\"1\" class=\"dataframe\">\n",
              "  <thead>\n",
              "    <tr style=\"text-align: right;\">\n",
              "      <th></th>\n",
              "      <th>age</th>\n",
              "      <th>marital-status</th>\n",
              "      <th>occupation</th>\n",
              "    </tr>\n",
              "  </thead>\n",
              "  <tbody>\n",
              "    <tr>\n",
              "      <th>0</th>\n",
              "      <td>35-39</td>\n",
              "      <td>spouse-not-present</td>\n",
              "      <td>Adm-clerical</td>\n",
              "    </tr>\n",
              "    <tr>\n",
              "      <th>1</th>\n",
              "      <td>35-39</td>\n",
              "      <td>spouse-not-present</td>\n",
              "      <td>Handlers-cleaners</td>\n",
              "    </tr>\n",
              "    <tr>\n",
              "      <th>2</th>\n",
              "      <td>35-39</td>\n",
              "      <td>spouse-not-present</td>\n",
              "      <td>Exec-managerial</td>\n",
              "    </tr>\n",
              "    <tr>\n",
              "      <th>3</th>\n",
              "      <td>35-39</td>\n",
              "      <td>spouse-not-present</td>\n",
              "      <td>Craft-repair</td>\n",
              "    </tr>\n",
              "    <tr>\n",
              "      <th>4</th>\n",
              "      <td>35-39</td>\n",
              "      <td>spouse-not-present</td>\n",
              "      <td>Machine-op-inspct</td>\n",
              "    </tr>\n",
              "    <tr>\n",
              "      <th>...</th>\n",
              "      <td>...</td>\n",
              "      <td>...</td>\n",
              "      <td>...</td>\n",
              "    </tr>\n",
              "    <tr>\n",
              "      <th>30157</th>\n",
              "      <td>80-84</td>\n",
              "      <td>spouse-not-present</td>\n",
              "      <td>Sales</td>\n",
              "    </tr>\n",
              "    <tr>\n",
              "      <th>30158</th>\n",
              "      <td>80-84</td>\n",
              "      <td>spouse-not-present</td>\n",
              "      <td>Sales</td>\n",
              "    </tr>\n",
              "    <tr>\n",
              "      <th>30159</th>\n",
              "      <td>80-84</td>\n",
              "      <td>spouse-not-present</td>\n",
              "      <td>Sales</td>\n",
              "    </tr>\n",
              "    <tr>\n",
              "      <th>30160</th>\n",
              "      <td>80-84</td>\n",
              "      <td>spouse-not-present</td>\n",
              "      <td>Prof-specialty</td>\n",
              "    </tr>\n",
              "    <tr>\n",
              "      <th>30161</th>\n",
              "      <td>80-84</td>\n",
              "      <td>spouse-not-present</td>\n",
              "      <td>Sales</td>\n",
              "    </tr>\n",
              "  </tbody>\n",
              "</table>\n",
              "<p>30162 rows × 3 columns</p>\n",
              "</div>\n",
              "      <button class=\"colab-df-convert\" onclick=\"convertToInteractive('df-dd6bccb3-ff3b-4d46-bbfd-f9cc123b7347')\"\n",
              "              title=\"Convert this dataframe to an interactive table.\"\n",
              "              style=\"display:none;\">\n",
              "        \n",
              "  <svg xmlns=\"http://www.w3.org/2000/svg\" height=\"24px\"viewBox=\"0 0 24 24\"\n",
              "       width=\"24px\">\n",
              "    <path d=\"M0 0h24v24H0V0z\" fill=\"none\"/>\n",
              "    <path d=\"M18.56 5.44l.94 2.06.94-2.06 2.06-.94-2.06-.94-.94-2.06-.94 2.06-2.06.94zm-11 1L8.5 8.5l.94-2.06 2.06-.94-2.06-.94L8.5 2.5l-.94 2.06-2.06.94zm10 10l.94 2.06.94-2.06 2.06-.94-2.06-.94-.94-2.06-.94 2.06-2.06.94z\"/><path d=\"M17.41 7.96l-1.37-1.37c-.4-.4-.92-.59-1.43-.59-.52 0-1.04.2-1.43.59L10.3 9.45l-7.72 7.72c-.78.78-.78 2.05 0 2.83L4 21.41c.39.39.9.59 1.41.59.51 0 1.02-.2 1.41-.59l7.78-7.78 2.81-2.81c.8-.78.8-2.07 0-2.86zM5.41 20L4 18.59l7.72-7.72 1.47 1.35L5.41 20z\"/>\n",
              "  </svg>\n",
              "      </button>\n",
              "      \n",
              "  <style>\n",
              "    .colab-df-container {\n",
              "      display:flex;\n",
              "      flex-wrap:wrap;\n",
              "      gap: 12px;\n",
              "    }\n",
              "\n",
              "    .colab-df-convert {\n",
              "      background-color: #E8F0FE;\n",
              "      border: none;\n",
              "      border-radius: 50%;\n",
              "      cursor: pointer;\n",
              "      display: none;\n",
              "      fill: #1967D2;\n",
              "      height: 32px;\n",
              "      padding: 0 0 0 0;\n",
              "      width: 32px;\n",
              "    }\n",
              "\n",
              "    .colab-df-convert:hover {\n",
              "      background-color: #E2EBFA;\n",
              "      box-shadow: 0px 1px 2px rgba(60, 64, 67, 0.3), 0px 1px 3px 1px rgba(60, 64, 67, 0.15);\n",
              "      fill: #174EA6;\n",
              "    }\n",
              "\n",
              "    [theme=dark] .colab-df-convert {\n",
              "      background-color: #3B4455;\n",
              "      fill: #D2E3FC;\n",
              "    }\n",
              "\n",
              "    [theme=dark] .colab-df-convert:hover {\n",
              "      background-color: #434B5C;\n",
              "      box-shadow: 0px 1px 3px 1px rgba(0, 0, 0, 0.15);\n",
              "      filter: drop-shadow(0px 1px 2px rgba(0, 0, 0, 0.3));\n",
              "      fill: #FFFFFF;\n",
              "    }\n",
              "  </style>\n",
              "\n",
              "      <script>\n",
              "        const buttonEl =\n",
              "          document.querySelector('#df-dd6bccb3-ff3b-4d46-bbfd-f9cc123b7347 button.colab-df-convert');\n",
              "        buttonEl.style.display =\n",
              "          google.colab.kernel.accessAllowed ? 'block' : 'none';\n",
              "\n",
              "        async function convertToInteractive(key) {\n",
              "          const element = document.querySelector('#df-dd6bccb3-ff3b-4d46-bbfd-f9cc123b7347');\n",
              "          const dataTable =\n",
              "            await google.colab.kernel.invokeFunction('convertToInteractive',\n",
              "                                                     [key], {});\n",
              "          if (!dataTable) return;\n",
              "\n",
              "          const docLinkHtml = 'Like what you see? Visit the ' +\n",
              "            '<a target=\"_blank\" href=https://colab.research.google.com/notebooks/data_table.ipynb>data table notebook</a>'\n",
              "            + ' to learn more about interactive tables.';\n",
              "          element.innerHTML = '';\n",
              "          dataTable['output_type'] = 'display_data';\n",
              "          await google.colab.output.renderOutput(dataTable, element);\n",
              "          const docLink = document.createElement('div');\n",
              "          docLink.innerHTML = docLinkHtml;\n",
              "          element.appendChild(docLink);\n",
              "        }\n",
              "      </script>\n",
              "    </div>\n",
              "  </div>\n",
              "  "
            ]
          },
          "metadata": {},
          "execution_count": 27
        }
      ]
    },
    {
      "cell_type": "code",
      "source": [
        "sns.countplot(y='age', hue='salary-class', data=adult_anonymised)"
      ],
      "metadata": {
        "colab": {
          "base_uri": "https://localhost:8080/",
          "height": 296
        },
        "id": "V38DzKqPe3Wz",
        "outputId": "082ceda8-34f5-4e63-b245-f414b8e1c303"
      },
      "execution_count": 28,
      "outputs": [
        {
          "output_type": "execute_result",
          "data": {
            "text/plain": [
              "<matplotlib.axes._subplots.AxesSubplot at 0x7f78c0c2a650>"
            ]
          },
          "metadata": {},
          "execution_count": 28
        },
        {
          "output_type": "display_data",
          "data": {
            "text/plain": [
              "<Figure size 432x288 with 1 Axes>"
            ],
            "image/png": "[encoded data removed]"
          },
          "metadata": {
            "needs_background": "light"
          }
        }
      ]
    },
    {
      "cell_type": "code",
      "source": [
        "X_anon_processed = cat_pipeline.fit_transform(X_anon)"
      ],
      "metadata": {
        "id": "xlDFyEOFbVdk"
      },
      "execution_count": 29,
      "outputs": []
    },
    {
      "cell_type": "code",
      "source": [
        "cross_val_model = LogisticRegression(random_state=0)\n",
        "scores = cross_val_score(cross_val_model, X_anon_processed, y, cv=5)"
      ],
      "metadata": {
        "id": "ZhQ2OX6Ieksr"
      },
      "execution_count": 30,
      "outputs": []
    },
    {
      "cell_type": "code",
      "source": [
        "scores "
      ],
      "metadata": {
        "colab": {
          "base_uri": "https://localhost:8080/"
        },
        "id": "rPb70a7IeoAh",
        "outputId": "471c51fa-3440-47de-a1ad-0503ab60f234"
      },
      "execution_count": 31,
      "outputs": [
        {
          "output_type": "execute_result",
          "data": {
            "text/plain": [
              "array([0.75103597, 0.75103597, 0.75116048, 0.75116048, 0.75099469])"
            ]
          },
          "metadata": {},
          "execution_count": 31
        }
      ]
    }
  ],
  "metadata": {
    "colab": {
      "collapsed_sections": [],
      "name": "BeyondCoding_workshop.ipynb",
      "provenance": [],
      "authorship_tag": "ABX9TyMvL9dLXKG6jcXHfPENGFTH",
      "include_colab_link": true
    },
    "kernelspec": {
      "display_name": "Python 3",
      "name": "python3"
    },
    "language_info": {
      "name": "python"
    }
  },
  "nbformat": 4,
  "nbformat_minor": 0
}